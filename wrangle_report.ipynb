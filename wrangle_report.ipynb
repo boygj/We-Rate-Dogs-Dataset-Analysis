{
 "cells": [
  {
   "cell_type": "markdown",
   "id": "f74c31ee",
   "metadata": {},
   "source": [
    "# Data Wrangling Project Report"
   ]
  },
  {
   "cell_type": "markdown",
   "id": "727e5996",
   "metadata": {},
   "source": [
    "<p>This report details how the Data Wrangling Project Objectives were met for this section. It takes into account the various sections that were included in the project, from the Introduction and project  motivation, to data collection efforts, data assessment, data cleaning and finally data analysis and visulization.</p>\n",
    "</br\n",
    "<p> There are 6 main steps that were undertaken during this project. They include:\n",
    "    \n",
    "    <ul>\n",
    "        <li>Step 1: Gathering data</li>\n",
    "        <li>Step 2: Assessing data</li>\n",
    "        <li>Step 3: Cleaning data</li>\n",
    "        <li>Step 4: Storing data</li>\n",
    "        <li>Step 5: Analyzing, and visualizing data</li>\n",
    "        <li>Step 6: Reporting</li>\n",
    "    </ul>\n",
    "    \n",
    "### Gathering Data\n",
    "\n",
    "<p> Data for this project was derived from 3 main sources. They are:</p>\n",
    "    \n",
    "    <ul>\n",
    "        <li>Enhanced Twitter Archive:</li>\n",
    "\n",
    "<li>The WeRateDogs Twitter archive contains basic tweet data for all 5000+ of their tweets, but not everything. One column the archive does contain though: each tweet's text, which I used to extract rating, dog name, and dog \"stage\" (i.e. doggo, floofer, pupper, and puppo) to make this Twitter archive \"enhanced.\" Of the 5000+ tweets, I have filtered for tweets with ratings only (there are 2356).</li>\n",
    "        <li>Additional Data via the Twitter API: </li>\n",
    "\n",
    "<li>Back to the basic-ness of Twitter archives: retweet count and favorite count are two of the notable column omissions. Fortunately, this additional data can be gathered by anyone from Twitter's API. Well, \"anyone\" who has access to data for the 3000 most recent tweets, at least. But you, because you have the WeRateDogs Twitter archive and specifically the tweet IDs within it, can gather this data for all 5000+. And guess what? You're going to query Twitter's API to gather this valuable data.</li>\n",
    "        <li>Image Predictions File: </li>\n",
    "\n",
    "<li>One more cool thing: I ran every image in the WeRateDogs Twitter archive through a neural network that can classify breeds of dogs*. The results: a table full of image predictions (the top three only) alongside each tweet ID, image URL, and the image number that corresponded to the most confident prediction (numbered 1 to 4 since tweets can have up to four images).</li>\n",
    "        \n",
    "### Assessung Data\n",
    "<p>After the data was gathered, assessment of the 3 different pieces of data was performed based on Tidiness and quality issues. Some of the issues identified for this project include: </p>\n",
    "\n",
    "#### Tidiness Issues\n",
    "\n",
    " <ul>\n",
    "        <li>1. Dog stage data has been seperated into 4 columns</li>\n",
    "        <li>2. The data in all three tables appears to be similar but is currently in 3 different dataframes</li>\n",
    " </ul>\n",
    "\n",
    "\n",
    "### Quality Issues\n",
    "\n",
    "<ul>\n",
    "        <li>1. Since we only want original data, there appears to be 181 retweets in the dataset</li>\n",
    "        <li>2. Some dog names appear to be invalid such as none and starting with small letters</li>\n",
    "        <li>3. The tweet_id column is an integer instead of a string data type</li>\n",
    "        <li>4. Some ID's appear to be missing dog photos</li>\n",
    "        <li>5. Missing values in expanded_url column</li>\n",
    "        <li>6. p1, p2 and p3 data is seperated by hiphens</li>\n",
    "        <li>7. some of the label data under column p1, p2 and p3 start with lower case while others start with upper case</li>\n",
    "        <li>8. There are missing entires under retweet count column</li>\n",
    "</ul>\n",
    "    \n",
    "\n",
    "### Cleaning Data\n",
    "The issues that were identified were cleaned at this stage\n",
    "\n",
    "\n",
    "\n",
    "\n",
    "\n",
    "\n",
    "\n",
    "\n",
    "\n",
    "\n",
    "\n",
    "\n",
    "\n",
    "\n"
   ]
  }
 ],
 "metadata": {
  "kernelspec": {
   "display_name": "Python 3 (ipykernel)",
   "language": "python",
   "name": "python3"
  },
  "language_info": {
   "codemirror_mode": {
    "name": "ipython",
    "version": 3
   },
   "file_extension": ".py",
   "mimetype": "text/x-python",
   "name": "python",
   "nbconvert_exporter": "python",
   "pygments_lexer": "ipython3",
   "version": "3.9.12"
  }
 },
 "nbformat": 4,
 "nbformat_minor": 5
}
